{
 "cells": [
  {
   "cell_type": "markdown",
   "id": "59818fd0",
   "metadata": {},
   "source": [
    "# Library and Packages Import"
   ]
  },
  {
   "cell_type": "code",
   "execution_count": 1,
   "id": "e9e1b226",
   "metadata": {},
   "outputs": [
    {
     "name": "stdout",
     "output_type": "stream",
     "text": [
      "Requirement already satisfied: nltk in c:\\users\\yodchan\\appdata\\local\\anaconda3\\lib\\site-packages (3.8.1)\n",
      "Requirement already satisfied: click in c:\\users\\yodchan\\appdata\\local\\anaconda3\\lib\\site-packages (from nltk) (8.0.4)\n",
      "Requirement already satisfied: joblib in c:\\users\\yodchan\\appdata\\local\\anaconda3\\lib\\site-packages (from nltk) (1.2.0)\n",
      "Requirement already satisfied: regex>=2021.8.3 in c:\\users\\yodchan\\appdata\\local\\anaconda3\\lib\\site-packages (from nltk) (2022.7.9)\n",
      "Requirement already satisfied: tqdm in c:\\users\\yodchan\\appdata\\local\\anaconda3\\lib\\site-packages (from nltk) (4.65.0)\n",
      "Requirement already satisfied: colorama in c:\\users\\yodchan\\appdata\\local\\anaconda3\\lib\\site-packages (from click->nltk) (0.4.6)\n"
     ]
    }
   ],
   "source": [
    "!pip install nltk\n",
    "from nltk.corpus import stopwords\n",
    "\n",
    "import pandas as pd\n",
    "from tqdm import tqdm\n",
    "import json, os\n",
    "import pandas as pd\n",
    "import numpy as np\n",
    "import seaborn as sns\n",
    "import matplotlib.pyplot as plt\n",
    "from sklearn.model_selection import train_test_split\n",
    "from sklearn.preprocessing import StandardScaler\n",
    "from sklearn.model_selection import cross_val_score\n",
    "from sklearn.pipeline import Pipeline\n",
    "from sklearn.feature_extraction.text import CountVectorizer\n",
    "from sklearn.naive_bayes import MultinomialNB\n",
    "from sklearn.metrics import confusion_matrix, ConfusionMatrixDisplay\n",
    "from sklearn.ensemble import RandomForestClassifier,ExtraTreesClassifier,BaggingClassifier\n",
    "from sklearn.model_selection import train_test_split,GridSearchCV,cross_val_score\n",
    "from sklearn.tree import DecisionTreeClassifier,plot_tree\n",
    "from sklearn.metrics import f1_score, classification_report"
   ]
  },
  {
   "cell_type": "markdown",
   "id": "a35ae21e",
   "metadata": {},
   "source": [
    "# Problem Statement"
   ]
  },
  {
   "cell_type": "markdown",
   "id": "2338be9f",
   "metadata": {},
   "source": [
    "“ A car trading agency company in England having two main premium-class cars which are Mercedes-Benz and BMW. In a day, the customer service team have inbox emails over a thousand from senders throughout the U.K. During the expansion of branches in this year, the number of the inbox email is increasing, so the head of customer service asks Data Science team to create model in order to distinguish the email by vehicle brands and send to the incharing section directly. As company-email gathering seems confidential, so the data science team started to do web-scraping from Reddit to initiate model creation instead at first. ”"
   ]
  },
  {
   "cell_type": "markdown",
   "id": "cbae2c3f",
   "metadata": {},
   "source": [
    "# Dataset Import & Pre-processing"
   ]
  },
  {
   "cell_type": "markdown",
   "id": "be534571",
   "metadata": {},
   "source": [
    "## DataFrame Merging and Class Labelling"
   ]
  },
  {
   "cell_type": "markdown",
   "id": "e5e0a31a",
   "metadata": {},
   "source": [
    "After doing webscraping, we've got 2 types of dataset, one from Mercedes-Benz sub-reddit whose data gathered from 2012 to 2023, and another one is from BMW sub-reddit whose data gathered from 2010 to 2018. At first each two datasets have more over than 28,000 observations then we dropped the observations whose text, a post content, contains \"[removed]\",\"[deleted]\" and nothing ( null ), so remaining observations became around 6,500 observation for each datasets which are slight balanced in term of number of vehicle types."
   ]
  },
  {
   "cell_type": "code",
   "execution_count": 2,
   "id": "8f929456",
   "metadata": {},
   "outputs": [],
   "source": [
    "# Import Dataset after sub-reddit web scrapping\n",
    "\n",
    "benz= pd.read_json('data/mercedes_benz.json').drop_duplicates()\n",
    "bmw = pd.read_json('data/BMW.json').drop_duplicates() "
   ]
  },
  {
   "cell_type": "code",
   "execution_count": 3,
   "id": "c225fb8c",
   "metadata": {},
   "outputs": [],
   "source": [
    "# Identify the vehicle types \n",
    "\n",
    "benz['class'] = 0\n",
    "bmw['class'] = 1"
   ]
  },
  {
   "cell_type": "code",
   "execution_count": 4,
   "id": "5f888394",
   "metadata": {},
   "outputs": [],
   "source": [
    "# Merging the two DataFrame together\n",
    "\n",
    "df = pd.concat([benz,bmw],ignore_index = True,sort = False)   "
   ]
  },
  {
   "cell_type": "code",
   "execution_count": 5,
   "id": "cff3644d",
   "metadata": {},
   "outputs": [],
   "source": [
    "# drop posts whose texts containing '[removed]','[deleted]','',None,np.NaN\n",
    "\n",
    "values = ['[removed]','[deleted]','',None,np.NaN]\n",
    "\n",
    "df = df[df.text.isin(values) == False]\n",
    "\n",
    "df.reset_index(inplace=True)"
   ]
  },
  {
   "cell_type": "code",
   "execution_count": 6,
   "id": "f701e0a4",
   "metadata": {},
   "outputs": [
    {
     "data": {
      "text/html": [
       "<div>\n",
       "<style scoped>\n",
       "    .dataframe tbody tr th:only-of-type {\n",
       "        vertical-align: middle;\n",
       "    }\n",
       "\n",
       "    .dataframe tbody tr th {\n",
       "        vertical-align: top;\n",
       "    }\n",
       "\n",
       "    .dataframe thead th {\n",
       "        text-align: right;\n",
       "    }\n",
       "</style>\n",
       "<table border=\"1\" class=\"dataframe\">\n",
       "  <thead>\n",
       "    <tr style=\"text-align: right;\">\n",
       "      <th></th>\n",
       "      <th>index</th>\n",
       "      <th>vote</th>\n",
       "      <th>title</th>\n",
       "      <th>text</th>\n",
       "      <th>date</th>\n",
       "      <th>class</th>\n",
       "    </tr>\n",
       "  </thead>\n",
       "  <tbody>\n",
       "    <tr>\n",
       "      <th>0</th>\n",
       "      <td>37</td>\n",
       "      <td>4</td>\n",
       "      <td>The trunk to my dads Mercedes Benz CLK 320 wil...</td>\n",
       "      <td>http://imageshack.us/photo/my-images/204/p1090...</td>\n",
       "      <td>2012-04-29</td>\n",
       "      <td>0</td>\n",
       "    </tr>\n",
       "    <tr>\n",
       "      <th>1</th>\n",
       "      <td>47</td>\n",
       "      <td>2</td>\n",
       "      <td>Would you buy a 128i over a c250?</td>\n",
       "      <td>Im a bmw fanboy but that merc looks so good an...</td>\n",
       "      <td>2012-06-23</td>\n",
       "      <td>0</td>\n",
       "    </tr>\n",
       "    <tr>\n",
       "      <th>2</th>\n",
       "      <td>48</td>\n",
       "      <td>0</td>\n",
       "      <td>austin, need reddit's help! 1990 190e</td>\n",
       "      <td>trying to replace the ignition cyclinder have ...</td>\n",
       "      <td>2012-06-24</td>\n",
       "      <td>0</td>\n",
       "    </tr>\n",
       "    <tr>\n",
       "      <th>3</th>\n",
       "      <td>53</td>\n",
       "      <td>4</td>\n",
       "      <td>Option on a seventies W114 220D</td>\n",
       "      <td>Hello Mercedes-Benz enthusiasts. My neighbor i...</td>\n",
       "      <td>2012-06-28</td>\n",
       "      <td>0</td>\n",
       "    </tr>\n",
       "    <tr>\n",
       "      <th>4</th>\n",
       "      <td>60</td>\n",
       "      <td>6</td>\n",
       "      <td>My 2001 CLK55 AMG</td>\n",
       "      <td>A couple of pics of my 2001 CLK55 AMG. Sorry f...</td>\n",
       "      <td>2012-07-10</td>\n",
       "      <td>0</td>\n",
       "    </tr>\n",
       "  </tbody>\n",
       "</table>\n",
       "</div>"
      ],
      "text/plain": [
       "   index  vote                                              title  \\\n",
       "0     37     4  The trunk to my dads Mercedes Benz CLK 320 wil...   \n",
       "1     47     2                  Would you buy a 128i over a c250?   \n",
       "2     48     0              austin, need reddit's help! 1990 190e   \n",
       "3     53     4                    Option on a seventies W114 220D   \n",
       "4     60     6                                  My 2001 CLK55 AMG   \n",
       "\n",
       "                                                text       date  class  \n",
       "0  http://imageshack.us/photo/my-images/204/p1090... 2012-04-29      0  \n",
       "1  Im a bmw fanboy but that merc looks so good an... 2012-06-23      0  \n",
       "2  trying to replace the ignition cyclinder have ... 2012-06-24      0  \n",
       "3  Hello Mercedes-Benz enthusiasts. My neighbor i... 2012-06-28      0  \n",
       "4  A couple of pics of my 2001 CLK55 AMG. Sorry f... 2012-07-10      0  "
      ]
     },
     "execution_count": 6,
     "metadata": {},
     "output_type": "execute_result"
    }
   ],
   "source": [
    "# Seeing the output after data cleansing\n",
    "\n",
    "df.head()"
   ]
  },
  {
   "cell_type": "code",
   "execution_count": 7,
   "id": "9bfed9f9",
   "metadata": {},
   "outputs": [],
   "source": [
    "# Dropping the irrelevant columns\n",
    "\n",
    "df = df.drop(['vote','date','index'], axis=1)"
   ]
  },
  {
   "cell_type": "code",
   "execution_count": 8,
   "id": "1baa9673",
   "metadata": {},
   "outputs": [],
   "source": [
    "# Concating the title and text\n",
    "\n",
    "df['post'] = df['title']+\" \"+df['text']"
   ]
  },
  {
   "cell_type": "code",
   "execution_count": 9,
   "id": "ea028df5",
   "metadata": {},
   "outputs": [],
   "source": [
    "# Creating post length columns to see the number of words in each observation\n",
    "\n",
    "df['post_length'] = df['post'].str.split().str.len()"
   ]
  },
  {
   "cell_type": "code",
   "execution_count": 10,
   "id": "51b10f37",
   "metadata": {},
   "outputs": [
    {
     "data": {
      "text/html": [
       "<div>\n",
       "<style scoped>\n",
       "    .dataframe tbody tr th:only-of-type {\n",
       "        vertical-align: middle;\n",
       "    }\n",
       "\n",
       "    .dataframe tbody tr th {\n",
       "        vertical-align: top;\n",
       "    }\n",
       "\n",
       "    .dataframe thead th {\n",
       "        text-align: right;\n",
       "    }\n",
       "</style>\n",
       "<table border=\"1\" class=\"dataframe\">\n",
       "  <thead>\n",
       "    <tr style=\"text-align: right;\">\n",
       "      <th></th>\n",
       "      <th>title</th>\n",
       "      <th>text</th>\n",
       "      <th>class</th>\n",
       "      <th>post</th>\n",
       "      <th>post_length</th>\n",
       "    </tr>\n",
       "  </thead>\n",
       "  <tbody>\n",
       "    <tr>\n",
       "      <th>0</th>\n",
       "      <td>The trunk to my dads Mercedes Benz CLK 320 wil...</td>\n",
       "      <td>http://imageshack.us/photo/my-images/204/p1090...</td>\n",
       "      <td>0</td>\n",
       "      <td>The trunk to my dads Mercedes Benz CLK 320 wil...</td>\n",
       "      <td>83</td>\n",
       "    </tr>\n",
       "    <tr>\n",
       "      <th>1</th>\n",
       "      <td>Would you buy a 128i over a c250?</td>\n",
       "      <td>Im a bmw fanboy but that merc looks so good an...</td>\n",
       "      <td>0</td>\n",
       "      <td>Would you buy a 128i over a c250? Im a bmw fan...</td>\n",
       "      <td>43</td>\n",
       "    </tr>\n",
       "    <tr>\n",
       "      <th>2</th>\n",
       "      <td>austin, need reddit's help! 1990 190e</td>\n",
       "      <td>trying to replace the ignition cyclinder have ...</td>\n",
       "      <td>0</td>\n",
       "      <td>austin, need reddit's help! 1990 190e trying t...</td>\n",
       "      <td>30</td>\n",
       "    </tr>\n",
       "    <tr>\n",
       "      <th>3</th>\n",
       "      <td>Option on a seventies W114 220D</td>\n",
       "      <td>Hello Mercedes-Benz enthusiasts. My neighbor i...</td>\n",
       "      <td>0</td>\n",
       "      <td>Option on a seventies W114 220D Hello Mercedes...</td>\n",
       "      <td>89</td>\n",
       "    </tr>\n",
       "    <tr>\n",
       "      <th>4</th>\n",
       "      <td>My 2001 CLK55 AMG</td>\n",
       "      <td>A couple of pics of my 2001 CLK55 AMG. Sorry f...</td>\n",
       "      <td>0</td>\n",
       "      <td>My 2001 CLK55 AMG A couple of pics of my 2001 ...</td>\n",
       "      <td>38</td>\n",
       "    </tr>\n",
       "  </tbody>\n",
       "</table>\n",
       "</div>"
      ],
      "text/plain": [
       "                                               title  \\\n",
       "0  The trunk to my dads Mercedes Benz CLK 320 wil...   \n",
       "1                  Would you buy a 128i over a c250?   \n",
       "2              austin, need reddit's help! 1990 190e   \n",
       "3                    Option on a seventies W114 220D   \n",
       "4                                  My 2001 CLK55 AMG   \n",
       "\n",
       "                                                text  class  \\\n",
       "0  http://imageshack.us/photo/my-images/204/p1090...      0   \n",
       "1  Im a bmw fanboy but that merc looks so good an...      0   \n",
       "2  trying to replace the ignition cyclinder have ...      0   \n",
       "3  Hello Mercedes-Benz enthusiasts. My neighbor i...      0   \n",
       "4  A couple of pics of my 2001 CLK55 AMG. Sorry f...      0   \n",
       "\n",
       "                                                post  post_length  \n",
       "0  The trunk to my dads Mercedes Benz CLK 320 wil...           83  \n",
       "1  Would you buy a 128i over a c250? Im a bmw fan...           43  \n",
       "2  austin, need reddit's help! 1990 190e trying t...           30  \n",
       "3  Option on a seventies W114 220D Hello Mercedes...           89  \n",
       "4  My 2001 CLK55 AMG A couple of pics of my 2001 ...           38  "
      ]
     },
     "execution_count": 10,
     "metadata": {},
     "output_type": "execute_result"
    }
   ],
   "source": [
    "df.head()"
   ]
  },
  {
   "cell_type": "markdown",
   "id": "f513dd43",
   "metadata": {},
   "source": [
    "## EDA"
   ]
  },
  {
   "cell_type": "markdown",
   "id": "46eb0fe0",
   "metadata": {},
   "source": [
    "We're kind of getting the slightly balanced dataset, 13,030 observations, whose 52% is from Mercedes-Benz sub-reddit and the other 48% are from BMW."
   ]
  },
  {
   "cell_type": "code",
   "execution_count": 11,
   "id": "83ba8fb0",
   "metadata": {},
   "outputs": [
    {
     "data": {
      "image/png": "[encoded data removed]",
      "text/plain": [
       "<Figure size 400x400 with 1 Axes>"
      ]
     },
     "metadata": {},
     "output_type": "display_data"
    }
   ],
   "source": [
    "plt.figure(figsize = (4, 4))\n",
    "\n",
    "df['class'].value_counts().plot(kind = 'bar',color=['red','blue'], grid = False);\n",
    "plt.xlabel('class')\n",
    "plt.ylabel('number of post');\n",
    "plt.title(\"Number of Post by Class\", fontsize = 10);"
   ]
  },
  {
   "cell_type": "markdown",
   "id": "0673b521",
   "metadata": {},
   "source": [
    "When we count the number of words in a post ( Title and post's content ), BMW seems to have greater number of words rather than that of Mercedes Benz. Anyways both distribution are right-skewed.\n",
    "> Mean of number of words in Mercedes-Benz post : 88 words\n",
    "\n",
    "> Mean of number of words in Mercedes-Benz post : 105 words"
   ]
  },
  {
   "cell_type": "code",
   "execution_count": 12,
   "id": "e4f5d600",
   "metadata": {},
   "outputs": [
    {
     "data": {
      "image/png": "[encoded data removed]",
      "text/plain": [
       "<Figure size 640x480 with 1 Axes>"
      ]
     },
     "metadata": {},
     "output_type": "display_data"
    }
   ],
   "source": [
    "# Seeing the number of words distribution in Mercedes-Benz posts\n",
    "\n",
    "plt.hist(df['post_length'][df['class']==0],bins=100,range=(0,500),color='red')\n",
    "plt.xlabel('The number of word in post')\n",
    "plt.ylabel('frequency count')\n",
    "plt.title(\"Distribution of the Number of Word in Mercedes-Benz posts\", fontsize = 10);"
   ]
  },
  {
   "cell_type": "code",
   "execution_count": 13,
   "id": "02e782a3",
   "metadata": {},
   "outputs": [
    {
     "data": {
      "text/plain": [
       "87.58294820717131"
      ]
     },
     "execution_count": 13,
     "metadata": {},
     "output_type": "execute_result"
    }
   ],
   "source": [
    "df['post_length'][df['class']==0].mean()"
   ]
  },
  {
   "cell_type": "code",
   "execution_count": 14,
   "id": "a4a4bcd4",
   "metadata": {},
   "outputs": [
    {
     "data": {
      "image/png": "[encoded data removed]",
      "text/plain": [
       "<Figure size 640x480 with 1 Axes>"
      ]
     },
     "metadata": {},
     "output_type": "display_data"
    }
   ],
   "source": [
    "# Seeing the number of words distribution in BMW posts\n",
    "\n",
    "plt.hist(df['post_length'][df['class']==1],bins=100,range=(0,500),color='blue')\n",
    "plt.xlabel('The number of word in post')\n",
    "plt.ylabel('frequency count')\n",
    "plt.title(\"Distribution of the Number of Word in BMW posts\", fontsize = 10);"
   ]
  },
  {
   "cell_type": "code",
   "execution_count": 15,
   "id": "1b152333",
   "metadata": {},
   "outputs": [
    {
     "data": {
      "text/plain": [
       "105.43360473723168"
      ]
     },
     "execution_count": 15,
     "metadata": {},
     "output_type": "execute_result"
    }
   ],
   "source": [
    "df['post_length'][df['class']==1].mean()"
   ]
  },
  {
   "cell_type": "code",
   "execution_count": 16,
   "id": "232377e5",
   "metadata": {},
   "outputs": [],
   "source": [
    "# Updating English stop words\n",
    "\n",
    "updated_stopwords  = ['BMW','Mercedes-Benz','Benz','bmw','Mercedes Benz','Mercedes','http','benz','mercedes','MB','mb']\n",
    "\n",
    "for i in stopwords.words('english'):\n",
    "    updated_stopwords.append(i)"
   ]
  },
  {
   "cell_type": "markdown",
   "id": "c0d33195",
   "metadata": {},
   "source": [
    "By seeing the Top 20 common words for each vehicle types, 'class', 'amg', 'engine' are samples of most common words for Mercedes-Benz  while 'm3', 'want', 'guys' are samples of most common words for BMW. Anyways for both vehicle types are kind of having the same top common words."
   ]
  },
  {
   "cell_type": "code",
   "execution_count": 17,
   "id": "be7ee3de",
   "metadata": {},
   "outputs": [
    {
     "data": {
      "image/png": "[encoded data removed]",
      "text/plain": [
       "<Figure size 640x480 with 1 Axes>"
      ]
     },
     "metadata": {},
     "output_type": "display_data"
    }
   ],
   "source": [
    "# Seeing what are top common words in Mercedes-Benz\n",
    "\n",
    "df_post_benz = df['post'][df['class']==0]\n",
    "\n",
    "cvec_2 = CountVectorizer(max_features=1000,stop_words= updated_stopwords)\n",
    "\n",
    "X_cvec_benz = cvec_2.fit_transform(df_post_benz)\n",
    "\n",
    "X_cvec_df_benz = pd.DataFrame(X_cvec_benz.todense(), columns = cvec_2.get_feature_names_out())\n",
    "\n",
    "X_cvec_df_benz.sum().sort_values(ascending=False).head(20).plot(kind='barh',color='red');\n",
    "plt.xlabel(\"Word Count\")\n",
    "plt.ylabel(\"Word\")\n",
    "plt.title(\"Top 20 Common Words from Mercedes-Benz sub-reddit\");"
   ]
  },
  {
   "cell_type": "code",
   "execution_count": 18,
   "id": "e3f7f499",
   "metadata": {},
   "outputs": [
    {
     "data": {
      "image/png": "[encoded data removed]",
      "text/plain": [
       "<Figure size 640x480 with 1 Axes>"
      ]
     },
     "metadata": {},
     "output_type": "display_data"
    }
   ],
   "source": [
    "# Seeing what are top common words in BMW\n",
    "\n",
    "df_post_bmw = df['post'][df['class']==1]\n",
    "\n",
    "X_cvec_bmw = cvec_2.fit_transform(df_post_bmw)\n",
    "\n",
    "X_cvec_df_bmw = pd.DataFrame(X_cvec_bmw.todense(), columns = cvec_2.get_feature_names_out())\n",
    "\n",
    "X_cvec_df_bmw.sum().sort_values(ascending=False).head(20).plot(kind='barh',color='blue');\n",
    "plt.xlabel(\"Word Count\")\n",
    "plt.ylabel(\"Word\")\n",
    "plt.title(\"Top 20 Common Words from BMW sub-reddit\");"
   ]
  },
  {
   "cell_type": "markdown",
   "id": "b919b452",
   "metadata": {},
   "source": [
    "# Modeling"
   ]
  },
  {
   "cell_type": "code",
   "execution_count": 19,
   "id": "f2f50cc4",
   "metadata": {},
   "outputs": [],
   "source": [
    "# define feature(X) and target variable(y)\n",
    "\n",
    "X = df[['post']]\n",
    "y = df['class'] "
   ]
  },
  {
   "cell_type": "code",
   "execution_count": 20,
   "id": "173cbd7f",
   "metadata": {},
   "outputs": [],
   "source": [
    "#Spliting train and test sets\n",
    "\n",
    "X_train, X_test, y_train, y_test = train_test_split(X,\n",
    "                                                    y,\n",
    "                                                    test_size=0.25,\n",
    "                                                    random_state=42,\n",
    "                                                    stratify=y)"
   ]
  },
  {
   "cell_type": "code",
   "execution_count": 21,
   "id": "8a17b424",
   "metadata": {},
   "outputs": [],
   "source": [
    "# Instantiate CountVectorizer and fit to training set\n",
    "\n",
    "cvec = CountVectorizer(max_features=1000,stop_words= updated_stopwords)\n",
    "\n",
    "X_train_cvec = cvec.fit_transform(X_train['post'])\n",
    "\n",
    "X_train_cvec_df = pd.DataFrame(X_train_cvec.todense(), columns = cvec.get_feature_names_out())\n"
   ]
  },
  {
   "cell_type": "code",
   "execution_count": 22,
   "id": "427a98b5",
   "metadata": {},
   "outputs": [],
   "source": [
    "# Transform our testing data with the already-fit CountVectorizer.\n",
    "\n",
    "X_test_cvec = cvec.transform(X_test['post'])\n",
    "X_test_cvec_df = pd.DataFrame(X_test_cvec.todense(),columns=cvec.get_feature_names_out())"
   ]
  },
  {
   "cell_type": "markdown",
   "id": "05d834f9",
   "metadata": {},
   "source": [
    "## Model 1 : Naive Bayes"
   ]
  },
  {
   "cell_type": "markdown",
   "id": "8e9ef4a6",
   "metadata": {},
   "source": [
    "### Model Training"
   ]
  },
  {
   "cell_type": "code",
   "execution_count": 23,
   "id": "bd6550fc",
   "metadata": {},
   "outputs": [],
   "source": [
    "nb = MultinomialNB(class_prior=[0.5,0.5])"
   ]
  },
  {
   "cell_type": "code",
   "execution_count": 24,
   "id": "6570f3d2",
   "metadata": {},
   "outputs": [
    {
     "data": {
      "text/html": [
       "<style>#sk-container-id-1 {color: black;background-color: white;}#sk-container-id-1 pre{padding: 0;}#sk-container-id-1 div.sk-toggleable {background-color: white;}#sk-container-id-1 label.sk-toggleable__label {cursor: pointer;display: block;width: 100%;margin-bottom: 0;padding: 0.3em;box-sizing: border-box;text-align: center;}#sk-container-id-1 label.sk-toggleable__label-arrow:before {content: \"▸\";float: left;margin-right: 0.25em;color: #696969;}#sk-container-id-1 label.sk-toggleable__label-arrow:hover:before {color: black;}#sk-container-id-1 div.sk-estimator:hover label.sk-toggleable__label-arrow:before {color: black;}#sk-container-id-1 div.sk-toggleable__content {max-height: 0;max-width: 0;overflow: hidden;text-align: left;background-color: #f0f8ff;}#sk-container-id-1 div.sk-toggleable__content pre {margin: 0.2em;color: black;border-radius: 0.25em;background-color: #f0f8ff;}#sk-container-id-1 input.sk-toggleable__control:checked~div.sk-toggleable__content {max-height: 200px;max-width: 100%;overflow: auto;}#sk-container-id-1 input.sk-toggleable__control:checked~label.sk-toggleable__label-arrow:before {content: \"▾\";}#sk-container-id-1 div.sk-estimator input.sk-toggleable__control:checked~label.sk-toggleable__label {background-color: #d4ebff;}#sk-container-id-1 div.sk-label input.sk-toggleable__control:checked~label.sk-toggleable__label {background-color: #d4ebff;}#sk-container-id-1 input.sk-hidden--visually {border: 0;clip: rect(1px 1px 1px 1px);clip: rect(1px, 1px, 1px, 1px);height: 1px;margin: -1px;overflow: hidden;padding: 0;position: absolute;width: 1px;}#sk-container-id-1 div.sk-estimator {font-family: monospace;background-color: #f0f8ff;border: 1px dotted black;border-radius: 0.25em;box-sizing: border-box;margin-bottom: 0.5em;}#sk-container-id-1 div.sk-estimator:hover {background-color: #d4ebff;}#sk-container-id-1 div.sk-parallel-item::after {content: \"\";width: 100%;border-bottom: 1px solid gray;flex-grow: 1;}#sk-container-id-1 div.sk-label:hover label.sk-toggleable__label {background-color: #d4ebff;}#sk-container-id-1 div.sk-serial::before {content: \"\";position: absolute;border-left: 1px solid gray;box-sizing: border-box;top: 0;bottom: 0;left: 50%;z-index: 0;}#sk-container-id-1 div.sk-serial {display: flex;flex-direction: column;align-items: center;background-color: white;padding-right: 0.2em;padding-left: 0.2em;position: relative;}#sk-container-id-1 div.sk-item {position: relative;z-index: 1;}#sk-container-id-1 div.sk-parallel {display: flex;align-items: stretch;justify-content: center;background-color: white;position: relative;}#sk-container-id-1 div.sk-item::before, #sk-container-id-1 div.sk-parallel-item::before {content: \"\";position: absolute;border-left: 1px solid gray;box-sizing: border-box;top: 0;bottom: 0;left: 50%;z-index: -1;}#sk-container-id-1 div.sk-parallel-item {display: flex;flex-direction: column;z-index: 1;position: relative;background-color: white;}#sk-container-id-1 div.sk-parallel-item:first-child::after {align-self: flex-end;width: 50%;}#sk-container-id-1 div.sk-parallel-item:last-child::after {align-self: flex-start;width: 50%;}#sk-container-id-1 div.sk-parallel-item:only-child::after {width: 0;}#sk-container-id-1 div.sk-dashed-wrapped {border: 1px dashed gray;margin: 0 0.4em 0.5em 0.4em;box-sizing: border-box;padding-bottom: 0.4em;background-color: white;}#sk-container-id-1 div.sk-label label {font-family: monospace;font-weight: bold;display: inline-block;line-height: 1.2em;}#sk-container-id-1 div.sk-label-container {text-align: center;}#sk-container-id-1 div.sk-container {/* jupyter's `normalize.less` sets `[hidden] { display: none; }` but bootstrap.min.css set `[hidden] { display: none !important; }` so we also need the `!important` here to be able to override the default hidden behavior on the sphinx rendered scikit-learn.org. See: https://github.com/scikit-learn/scikit-learn/issues/21755 */display: inline-block !important;position: relative;}#sk-container-id-1 div.sk-text-repr-fallback {display: none;}</style><div id=\"sk-container-id-1\" class=\"sk-top-container\"><div class=\"sk-text-repr-fallback\"><pre>MultinomialNB(class_prior=[0.5, 0.5])</pre><b>In a Jupyter environment, please rerun this cell to show the HTML representation or trust the notebook. <br />On GitHub, the HTML representation is unable to render, please try loading this page with nbviewer.org.</b></div><div class=\"sk-container\" hidden><div class=\"sk-item\"><div class=\"sk-estimator sk-toggleable\"><input class=\"sk-toggleable__control sk-hidden--visually\" id=\"sk-estimator-id-1\" type=\"checkbox\" checked><label for=\"sk-estimator-id-1\" class=\"sk-toggleable__label sk-toggleable__label-arrow\">MultinomialNB</label><div class=\"sk-toggleable__content\"><pre>MultinomialNB(class_prior=[0.5, 0.5])</pre></div></div></div></div></div>"
      ],
      "text/plain": [
       "MultinomialNB(class_prior=[0.5, 0.5])"
      ]
     },
     "execution_count": 24,
     "metadata": {},
     "output_type": "execute_result"
    }
   ],
   "source": [
    "nb.fit(X_train_cvec, y_train)"
   ]
  },
  {
   "cell_type": "code",
   "execution_count": 25,
   "id": "c9778b5b",
   "metadata": {},
   "outputs": [],
   "source": [
    "# Generate the predictions\n",
    "\n",
    "predictions = nb.predict(X_test_cvec)"
   ]
  },
  {
   "cell_type": "markdown",
   "id": "742e401e",
   "metadata": {},
   "source": [
    "### Model Evaluation"
   ]
  },
  {
   "cell_type": "code",
   "execution_count": 26,
   "id": "fddeb6da",
   "metadata": {},
   "outputs": [
    {
     "data": {
      "text/plain": [
       "0.8725951698731068"
      ]
     },
     "execution_count": 26,
     "metadata": {},
     "output_type": "execute_result"
    }
   ],
   "source": [
    "# Score the model on the training set.\n",
    "\n",
    "nb.score(X_train_cvec,y_train)"
   ]
  },
  {
   "cell_type": "code",
   "execution_count": 27,
   "id": "784bf642",
   "metadata": {},
   "outputs": [
    {
     "data": {
      "text/plain": [
       "0.8689379987722529"
      ]
     },
     "execution_count": 27,
     "metadata": {},
     "output_type": "execute_result"
    }
   ],
   "source": [
    "# Score the model on the testing set.\n",
    "\n",
    "nb.score(X_test_cvec,y_test)"
   ]
  },
  {
   "cell_type": "code",
   "execution_count": 28,
   "id": "121b3ca7",
   "metadata": {},
   "outputs": [
    {
     "data": {
      "image/png": "[encoded data removed]",
      "text/plain": [
       "<Figure size 640x480 with 2 Axes>"
      ]
     },
     "metadata": {},
     "output_type": "display_data"
    }
   ],
   "source": [
    "# ploting confusion matrix\n",
    "disp = ConfusionMatrixDisplay(confusion_matrix(y_test,nb.predict(X_test_cvec)),display_labels = ['Benz','BMW'])\n",
    "disp.plot();"
   ]
  },
  {
   "cell_type": "code",
   "execution_count": 29,
   "id": "b912b2ad",
   "metadata": {},
   "outputs": [
    {
     "name": "stdout",
     "output_type": "stream",
     "text": [
      "              precision    recall  f1-score   support\n",
      "\n",
      "           0       0.89      0.84      0.86      1569\n",
      "           1       0.85      0.90      0.88      1689\n",
      "\n",
      "    accuracy                           0.87      3258\n",
      "   macro avg       0.87      0.87      0.87      3258\n",
      "weighted avg       0.87      0.87      0.87      3258\n",
      "\n"
     ]
    }
   ],
   "source": [
    "print(classification_report(y_test,nb.predict(X_test_cvec)))"
   ]
  },
  {
   "cell_type": "markdown",
   "id": "4d16cb44",
   "metadata": {},
   "source": [
    "### Error Analysis"
   ]
  },
  {
   "cell_type": "code",
   "execution_count": 30,
   "id": "3d340186",
   "metadata": {},
   "outputs": [
    {
     "data": {
      "text/html": [
       "<div>\n",
       "<style scoped>\n",
       "    .dataframe tbody tr th:only-of-type {\n",
       "        vertical-align: middle;\n",
       "    }\n",
       "\n",
       "    .dataframe tbody tr th {\n",
       "        vertical-align: top;\n",
       "    }\n",
       "\n",
       "    .dataframe thead th {\n",
       "        text-align: right;\n",
       "    }\n",
       "</style>\n",
       "<table border=\"1\" class=\"dataframe\">\n",
       "  <thead>\n",
       "    <tr style=\"text-align: right;\">\n",
       "      <th></th>\n",
       "      <th>post</th>\n",
       "      <th>actual_class</th>\n",
       "      <th>predicted_class</th>\n",
       "    </tr>\n",
       "  </thead>\n",
       "  <tbody>\n",
       "    <tr>\n",
       "      <th>1668</th>\n",
       "      <td>Looking to buy a 380/450SL (R107). Things to l...</td>\n",
       "      <td>0</td>\n",
       "      <td>1</td>\n",
       "    </tr>\n",
       "    <tr>\n",
       "      <th>3495</th>\n",
       "      <td>Where is this oil coming from? Hey folks, I bo...</td>\n",
       "      <td>0</td>\n",
       "      <td>1</td>\n",
       "    </tr>\n",
       "    <tr>\n",
       "      <th>6335</th>\n",
       "      <td>Where do you buy your OEM and aftermarket BMW ...</td>\n",
       "      <td>1</td>\n",
       "      <td>0</td>\n",
       "    </tr>\n",
       "    <tr>\n",
       "      <th>9315</th>\n",
       "      <td>Looking to buy a BMW aw a 2006 BMW 325 i for 8...</td>\n",
       "      <td>1</td>\n",
       "      <td>0</td>\n",
       "    </tr>\n",
       "    <tr>\n",
       "      <th>2568</th>\n",
       "      <td>E63S maintenance cost So I currently have a m4...</td>\n",
       "      <td>0</td>\n",
       "      <td>1</td>\n",
       "    </tr>\n",
       "  </tbody>\n",
       "</table>\n",
       "</div>"
      ],
      "text/plain": [
       "                                                   post  actual_class  \\\n",
       "1668  Looking to buy a 380/450SL (R107). Things to l...             0   \n",
       "3495  Where is this oil coming from? Hey folks, I bo...             0   \n",
       "6335  Where do you buy your OEM and aftermarket BMW ...             1   \n",
       "9315  Looking to buy a BMW aw a 2006 BMW 325 i for 8...             1   \n",
       "2568  E63S maintenance cost So I currently have a m4...             0   \n",
       "\n",
       "      predicted_class  \n",
       "1668                1  \n",
       "3495                1  \n",
       "6335                0  \n",
       "9315                0  \n",
       "2568                1  "
      ]
     },
     "execution_count": 30,
     "metadata": {},
     "output_type": "execute_result"
    }
   ],
   "source": [
    "# Comparing the actual class and the incorrectly predicted class by Naive Bayes Model\n",
    "\n",
    "result_nb = pd.DataFrame({'post':X_test['post'],'actual_class':y_test, 'predicted_class':nb.predict(X_test_cvec)})\n",
    "missprediction_nb = result_nb[result_nb['actual_class']!=result_nb['predicted_class']]\n",
    "missprediction_nb.head()"
   ]
  },
  {
   "cell_type": "code",
   "execution_count": 31,
   "id": "bb893802",
   "metadata": {},
   "outputs": [],
   "source": [
    "# save as csv file\n",
    "missprediction_nb.to_csv('error extraction/missprediction_naive_bayes.csv', index=False)"
   ]
  },
  {
   "cell_type": "markdown",
   "id": "5eb70fd9",
   "metadata": {},
   "source": [
    "## Model 2 : Random Forest"
   ]
  },
  {
   "cell_type": "markdown",
   "id": "1d6ff565",
   "metadata": {},
   "source": [
    "### Model Training"
   ]
  },
  {
   "cell_type": "code",
   "execution_count": 32,
   "id": "17cea395",
   "metadata": {},
   "outputs": [],
   "source": [
    "rf = RandomForestClassifier()"
   ]
  },
  {
   "cell_type": "code",
   "execution_count": 33,
   "id": "4fa66d77",
   "metadata": {},
   "outputs": [],
   "source": [
    "rf_params  ={'n_estimators':[50,100,150,200],\n",
    "            'max_depth':[None,2,3,4,5,6]}"
   ]
  },
  {
   "cell_type": "code",
   "execution_count": 34,
   "id": "fcbd2f46",
   "metadata": {},
   "outputs": [],
   "source": [
    "grid = GridSearchCV(rf,param_grid = rf_params,cv=5)"
   ]
  },
  {
   "cell_type": "code",
   "execution_count": 35,
   "id": "398db44e",
   "metadata": {},
   "outputs": [
    {
     "data": {
      "text/html": [
       "<style>#sk-container-id-2 {color: black;background-color: white;}#sk-container-id-2 pre{padding: 0;}#sk-container-id-2 div.sk-toggleable {background-color: white;}#sk-container-id-2 label.sk-toggleable__label {cursor: pointer;display: block;width: 100%;margin-bottom: 0;padding: 0.3em;box-sizing: border-box;text-align: center;}#sk-container-id-2 label.sk-toggleable__label-arrow:before {content: \"▸\";float: left;margin-right: 0.25em;color: #696969;}#sk-container-id-2 label.sk-toggleable__label-arrow:hover:before {color: black;}#sk-container-id-2 div.sk-estimator:hover label.sk-toggleable__label-arrow:before {color: black;}#sk-container-id-2 div.sk-toggleable__content {max-height: 0;max-width: 0;overflow: hidden;text-align: left;background-color: #f0f8ff;}#sk-container-id-2 div.sk-toggleable__content pre {margin: 0.2em;color: black;border-radius: 0.25em;background-color: #f0f8ff;}#sk-container-id-2 input.sk-toggleable__control:checked~div.sk-toggleable__content {max-height: 200px;max-width: 100%;overflow: auto;}#sk-container-id-2 input.sk-toggleable__control:checked~label.sk-toggleable__label-arrow:before {content: \"▾\";}#sk-container-id-2 div.sk-estimator input.sk-toggleable__control:checked~label.sk-toggleable__label {background-color: #d4ebff;}#sk-container-id-2 div.sk-label input.sk-toggleable__control:checked~label.sk-toggleable__label {background-color: #d4ebff;}#sk-container-id-2 input.sk-hidden--visually {border: 0;clip: rect(1px 1px 1px 1px);clip: rect(1px, 1px, 1px, 1px);height: 1px;margin: -1px;overflow: hidden;padding: 0;position: absolute;width: 1px;}#sk-container-id-2 div.sk-estimator {font-family: monospace;background-color: #f0f8ff;border: 1px dotted black;border-radius: 0.25em;box-sizing: border-box;margin-bottom: 0.5em;}#sk-container-id-2 div.sk-estimator:hover {background-color: #d4ebff;}#sk-container-id-2 div.sk-parallel-item::after {content: \"\";width: 100%;border-bottom: 1px solid gray;flex-grow: 1;}#sk-container-id-2 div.sk-label:hover label.sk-toggleable__label {background-color: #d4ebff;}#sk-container-id-2 div.sk-serial::before {content: \"\";position: absolute;border-left: 1px solid gray;box-sizing: border-box;top: 0;bottom: 0;left: 50%;z-index: 0;}#sk-container-id-2 div.sk-serial {display: flex;flex-direction: column;align-items: center;background-color: white;padding-right: 0.2em;padding-left: 0.2em;position: relative;}#sk-container-id-2 div.sk-item {position: relative;z-index: 1;}#sk-container-id-2 div.sk-parallel {display: flex;align-items: stretch;justify-content: center;background-color: white;position: relative;}#sk-container-id-2 div.sk-item::before, #sk-container-id-2 div.sk-parallel-item::before {content: \"\";position: absolute;border-left: 1px solid gray;box-sizing: border-box;top: 0;bottom: 0;left: 50%;z-index: -1;}#sk-container-id-2 div.sk-parallel-item {display: flex;flex-direction: column;z-index: 1;position: relative;background-color: white;}#sk-container-id-2 div.sk-parallel-item:first-child::after {align-self: flex-end;width: 50%;}#sk-container-id-2 div.sk-parallel-item:last-child::after {align-self: flex-start;width: 50%;}#sk-container-id-2 div.sk-parallel-item:only-child::after {width: 0;}#sk-container-id-2 div.sk-dashed-wrapped {border: 1px dashed gray;margin: 0 0.4em 0.5em 0.4em;box-sizing: border-box;padding-bottom: 0.4em;background-color: white;}#sk-container-id-2 div.sk-label label {font-family: monospace;font-weight: bold;display: inline-block;line-height: 1.2em;}#sk-container-id-2 div.sk-label-container {text-align: center;}#sk-container-id-2 div.sk-container {/* jupyter's `normalize.less` sets `[hidden] { display: none; }` but bootstrap.min.css set `[hidden] { display: none !important; }` so we also need the `!important` here to be able to override the default hidden behavior on the sphinx rendered scikit-learn.org. See: https://github.com/scikit-learn/scikit-learn/issues/21755 */display: inline-block !important;position: relative;}#sk-container-id-2 div.sk-text-repr-fallback {display: none;}</style><div id=\"sk-container-id-2\" class=\"sk-top-container\"><div class=\"sk-text-repr-fallback\"><pre>GridSearchCV(cv=5, estimator=RandomForestClassifier(),\n",
       "             param_grid={&#x27;max_depth&#x27;: [None, 2, 3, 4, 5, 6],\n",
       "                         &#x27;n_estimators&#x27;: [50, 100, 150, 200]})</pre><b>In a Jupyter environment, please rerun this cell to show the HTML representation or trust the notebook. <br />On GitHub, the HTML representation is unable to render, please try loading this page with nbviewer.org.</b></div><div class=\"sk-container\" hidden><div class=\"sk-item sk-dashed-wrapped\"><div class=\"sk-label-container\"><div class=\"sk-label sk-toggleable\"><input class=\"sk-toggleable__control sk-hidden--visually\" id=\"sk-estimator-id-2\" type=\"checkbox\" ><label for=\"sk-estimator-id-2\" class=\"sk-toggleable__label sk-toggleable__label-arrow\">GridSearchCV</label><div class=\"sk-toggleable__content\"><pre>GridSearchCV(cv=5, estimator=RandomForestClassifier(),\n",
       "             param_grid={&#x27;max_depth&#x27;: [None, 2, 3, 4, 5, 6],\n",
       "                         &#x27;n_estimators&#x27;: [50, 100, 150, 200]})</pre></div></div></div><div class=\"sk-parallel\"><div class=\"sk-parallel-item\"><div class=\"sk-item\"><div class=\"sk-label-container\"><div class=\"sk-label sk-toggleable\"><input class=\"sk-toggleable__control sk-hidden--visually\" id=\"sk-estimator-id-3\" type=\"checkbox\" ><label for=\"sk-estimator-id-3\" class=\"sk-toggleable__label sk-toggleable__label-arrow\">estimator: RandomForestClassifier</label><div class=\"sk-toggleable__content\"><pre>RandomForestClassifier()</pre></div></div></div><div class=\"sk-serial\"><div class=\"sk-item\"><div class=\"sk-estimator sk-toggleable\"><input class=\"sk-toggleable__control sk-hidden--visually\" id=\"sk-estimator-id-4\" type=\"checkbox\" ><label for=\"sk-estimator-id-4\" class=\"sk-toggleable__label sk-toggleable__label-arrow\">RandomForestClassifier</label><div class=\"sk-toggleable__content\"><pre>RandomForestClassifier()</pre></div></div></div></div></div></div></div></div></div></div>"
      ],
      "text/plain": [
       "GridSearchCV(cv=5, estimator=RandomForestClassifier(),\n",
       "             param_grid={'max_depth': [None, 2, 3, 4, 5, 6],\n",
       "                         'n_estimators': [50, 100, 150, 200]})"
      ]
     },
     "execution_count": 35,
     "metadata": {},
     "output_type": "execute_result"
    }
   ],
   "source": [
    "grid.fit(X_train_cvec,y_train)"
   ]
  },
  {
   "cell_type": "code",
   "execution_count": 36,
   "id": "9232a656",
   "metadata": {},
   "outputs": [
    {
     "data": {
      "text/plain": [
       "0.8699345299955237"
      ]
     },
     "execution_count": 36,
     "metadata": {},
     "output_type": "execute_result"
    }
   ],
   "source": [
    "grid.best_score_ # Cross Validation Score"
   ]
  },
  {
   "cell_type": "code",
   "execution_count": 37,
   "id": "3ff43f5e",
   "metadata": {},
   "outputs": [
    {
     "data": {
      "text/plain": [
       "{'max_depth': None, 'n_estimators': 200}"
      ]
     },
     "execution_count": 37,
     "metadata": {},
     "output_type": "execute_result"
    }
   ],
   "source": [
    "grid.best_params_"
   ]
  },
  {
   "cell_type": "markdown",
   "id": "c6e3a7b8",
   "metadata": {},
   "source": [
    "### Model Evaluation"
   ]
  },
  {
   "cell_type": "code",
   "execution_count": 38,
   "id": "a87afc05",
   "metadata": {},
   "outputs": [
    {
     "data": {
      "text/plain": [
       "0.9997953336062219"
      ]
     },
     "execution_count": 38,
     "metadata": {},
     "output_type": "execute_result"
    }
   ],
   "source": [
    "grid.score(X_train_cvec,y_train) # Train Accuracy"
   ]
  },
  {
   "cell_type": "code",
   "execution_count": 39,
   "id": "70a10663",
   "metadata": {},
   "outputs": [
    {
     "data": {
      "text/plain": [
       "0.874462860650706"
      ]
     },
     "execution_count": 39,
     "metadata": {},
     "output_type": "execute_result"
    }
   ],
   "source": [
    "grid.score(X_test_cvec,y_test) # Test Accuracy "
   ]
  },
  {
   "cell_type": "code",
   "execution_count": 40,
   "id": "eb9da6da",
   "metadata": {},
   "outputs": [
    {
     "data": {
      "image/png": "[encoded data removed]",
      "text/plain": [
       "<Figure size 640x480 with 2 Axes>"
      ]
     },
     "metadata": {},
     "output_type": "display_data"
    }
   ],
   "source": [
    "disp = ConfusionMatrixDisplay(confusion_matrix(y_test,grid.predict(X_test_cvec)),display_labels = ['Benz','BMW'])\n",
    "disp.plot();"
   ]
  },
  {
   "cell_type": "code",
   "execution_count": 41,
   "id": "e33ba03f",
   "metadata": {},
   "outputs": [
    {
     "name": "stdout",
     "output_type": "stream",
     "text": [
      "              precision    recall  f1-score   support\n",
      "\n",
      "           0       0.88      0.85      0.87      1569\n",
      "           1       0.87      0.90      0.88      1689\n",
      "\n",
      "    accuracy                           0.87      3258\n",
      "   macro avg       0.88      0.87      0.87      3258\n",
      "weighted avg       0.87      0.87      0.87      3258\n",
      "\n"
     ]
    }
   ],
   "source": [
    "print(classification_report(y_test,grid.predict(X_test_cvec)))"
   ]
  },
  {
   "cell_type": "markdown",
   "id": "40a903cc",
   "metadata": {},
   "source": [
    "### Error Analysis"
   ]
  },
  {
   "cell_type": "code",
   "execution_count": 42,
   "id": "cb75afb4",
   "metadata": {},
   "outputs": [
    {
     "data": {
      "text/html": [
       "<div>\n",
       "<style scoped>\n",
       "    .dataframe tbody tr th:only-of-type {\n",
       "        vertical-align: middle;\n",
       "    }\n",
       "\n",
       "    .dataframe tbody tr th {\n",
       "        vertical-align: top;\n",
       "    }\n",
       "\n",
       "    .dataframe thead th {\n",
       "        text-align: right;\n",
       "    }\n",
       "</style>\n",
       "<table border=\"1\" class=\"dataframe\">\n",
       "  <thead>\n",
       "    <tr style=\"text-align: right;\">\n",
       "      <th></th>\n",
       "      <th>post</th>\n",
       "      <th>actual_class</th>\n",
       "      <th>predicted_class</th>\n",
       "    </tr>\n",
       "  </thead>\n",
       "  <tbody>\n",
       "    <tr>\n",
       "      <th>1668</th>\n",
       "      <td>Looking to buy a 380/450SL (R107). Things to l...</td>\n",
       "      <td>0</td>\n",
       "      <td>1</td>\n",
       "    </tr>\n",
       "    <tr>\n",
       "      <th>7283</th>\n",
       "      <td>Do you think I could find a 1996-1999 328 (mil...</td>\n",
       "      <td>1</td>\n",
       "      <td>0</td>\n",
       "    </tr>\n",
       "    <tr>\n",
       "      <th>6335</th>\n",
       "      <td>Where do you buy your OEM and aftermarket BMW ...</td>\n",
       "      <td>1</td>\n",
       "      <td>0</td>\n",
       "    </tr>\n",
       "    <tr>\n",
       "      <th>9315</th>\n",
       "      <td>Looking to buy a BMW aw a 2006 BMW 325 i for 8...</td>\n",
       "      <td>1</td>\n",
       "      <td>0</td>\n",
       "    </tr>\n",
       "    <tr>\n",
       "      <th>2568</th>\n",
       "      <td>E63S maintenance cost So I currently have a m4...</td>\n",
       "      <td>0</td>\n",
       "      <td>1</td>\n",
       "    </tr>\n",
       "  </tbody>\n",
       "</table>\n",
       "</div>"
      ],
      "text/plain": [
       "                                                   post  actual_class  \\\n",
       "1668  Looking to buy a 380/450SL (R107). Things to l...             0   \n",
       "7283  Do you think I could find a 1996-1999 328 (mil...             1   \n",
       "6335  Where do you buy your OEM and aftermarket BMW ...             1   \n",
       "9315  Looking to buy a BMW aw a 2006 BMW 325 i for 8...             1   \n",
       "2568  E63S maintenance cost So I currently have a m4...             0   \n",
       "\n",
       "      predicted_class  \n",
       "1668                1  \n",
       "7283                0  \n",
       "6335                0  \n",
       "9315                0  \n",
       "2568                1  "
      ]
     },
     "execution_count": 42,
     "metadata": {},
     "output_type": "execute_result"
    }
   ],
   "source": [
    "# Comparing the actual class and the incorrectly predicted class by Random Forests\n",
    "\n",
    "result_rf = pd.DataFrame({'post':X_test['post'],'actual_class':y_test, 'predicted_class':grid.predict(X_test_cvec)})\n",
    "missprediction_rf = result_rf[result_rf['actual_class']!=result_rf['predicted_class']]\n",
    "missprediction_rf.head()"
   ]
  },
  {
   "cell_type": "code",
   "execution_count": 43,
   "id": "c7bf7381",
   "metadata": {},
   "outputs": [],
   "source": [
    "# save as csv file\n",
    "missprediction_rf.to_csv('error extraction/missprediction_random_forest.csv', index=False)"
   ]
  },
  {
   "cell_type": "markdown",
   "id": "2566c57b",
   "metadata": {},
   "source": [
    "# Conclusion and Recommendation"
   ]
  },
  {
   "cell_type": "markdown",
   "id": "359f9d84",
   "metadata": {},
   "source": [
    "The Data Science team recommended Model 2 : Random Forest with GridSearchCV to customer service team which has an approximately accuracy 88% on unseen data set. If the head of customer service accept with this model, the customer service team need to verify for the other 12% of the incoming emails."
   ]
  }
 ],
 "metadata": {
  "kernelspec": {
   "display_name": "Python 3 (ipykernel)",
   "language": "python",
   "name": "python3"
  },
  "language_info": {
   "codemirror_mode": {
    "name": "ipython",
    "version": 3
   },
   "file_extension": ".py",
   "mimetype": "text/x-python",
   "name": "python",
   "nbconvert_exporter": "python",
   "pygments_lexer": "ipython3",
   "version": "3.11.4"
  }
 },
 "nbformat": 4,
 "nbformat_minor": 5
}
